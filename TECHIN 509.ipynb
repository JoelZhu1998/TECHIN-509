{
  "nbformat": 4,
  "nbformat_minor": 0,
  "metadata": {
    "colab": {
      "provenance": []
    },
    "kernelspec": {
      "name": "python3",
      "display_name": "Python 3"
    },
    "language_info": {
      "name": "python"
    }
  },
  "cells": [
    {
      "cell_type": "code",
      "execution_count": null,
      "metadata": {
        "colab": {
          "base_uri": "https://localhost:8080/"
        },
        "id": "fgd8OLVKS3SM",
        "outputId": "2f4884c8-9785-479d-c949-2a7b26f1ed91"
      },
      "outputs": [
        {
          "output_type": "stream",
          "name": "stdout",
          "text": [
            "......................\n",
            "......##########......\n",
            "......#~~~~~~~~#......\n",
            "......#~~~~~~~~#......\n",
            "......#~~~~~~~~#####..\n",
            "....###~~~~~~~~~~~~#..\n",
            "....#~~~~~~~~~~~~###..\n",
            "....##############....\n"
          ]
        }
      ],
      "source": [
        "board = [\n",
        "    \"......................\",\n",
        "    \"......##########......\",\n",
        "    \"......#........#......\",\n",
        "    \"......#........#......\",\n",
        "    \"......#........#####..\",\n",
        "    \"....###............#..\",\n",
        "    \"....#............###..\",\n",
        "    \"....##############....\",\n",
        "]\n",
        "\n",
        "def flood_fill(input_board, old, new, x, y):\n",
        "    a, b = len(input_board), len(input_board[0])\n",
        "    stack = [(x, y)]\n",
        "\n",
        "    while stack:\n",
        "        x, y = stack.pop()\n",
        "        if (\n",
        "            0 <= x < a\n",
        "            and 0 <= y < b\n",
        "            and input_board[x][y] == old\n",
        "        ):\n",
        "            input_board[x] = input_board[x][:y] + new + input_board[x][y + 1:]\n",
        "            stack.extend([(x + 1, y), (x - 1, y), (x, y + 1), (x, y - 1)])\n",
        "\n",
        "    return input_board\n",
        "\n",
        "#Example\n",
        "result_board = flood_fill(board, old = \".\", new = \"~\", x=5, y=11)\n",
        "\n",
        "for row in result_board:\n",
        "    print(row)"
      ]
    },
    {
      "cell_type": "code",
      "source": [
        "board = [\n",
        "    \"......................\",\n",
        "    \"......##########......\",\n",
        "    \"......#........#......\",\n",
        "    \"......#........#......\",\n",
        "    \"......#........#####..\",\n",
        "    \"....###............#..\",\n",
        "    \"....#............###..\",\n",
        "    \"....##############....\",\n",
        "]\n",
        "\n",
        "def flood_fill(input_board, old, new, x, y):\n",
        "    a, b = len(input_board), len(input_board[0])\n",
        "    stack = [(x, y)]\n",
        "\n",
        "    while stack:\n",
        "        x, y = stack.pop()\n",
        "        if (\n",
        "            0 <= x < a\n",
        "            and 0 <= y < b\n",
        "            and input_board[x][y] == old\n",
        "        ):\n",
        "            input_board[x] = input_board[x][:y] + new + input_board[x][y + 1:]\n",
        "            stack.extend([(x + 1, y), (x - 1, y), (x, y + 1), (x, y - 1)])\n",
        "\n",
        "    return input_board\n",
        "\n",
        "#Example\n",
        "result_board = flood_fill(board, old = \".\", new = \"~\", x=1, y=1)\n",
        "\n",
        "for row in result_board:\n",
        "    print(row)"
      ],
      "metadata": {
        "colab": {
          "base_uri": "https://localhost:8080/"
        },
        "id": "eF6NadarT5qz",
        "outputId": "d30fe1f1-6dbb-4eb4-cb2b-ab7c0471dc4a"
      },
      "execution_count": null,
      "outputs": [
        {
          "output_type": "stream",
          "name": "stdout",
          "text": [
            "~~~~~~~~~~~~~~~~~~~~~~\n",
            "~~~~~~##########~~~~~~\n",
            "~~~~~~#........#~~~~~~\n",
            "~~~~~~#........#~~~~~~\n",
            "~~~~~~#........#####~~\n",
            "~~~~###............#~~\n",
            "~~~~#............###~~\n",
            "~~~~##############~~~~\n"
          ]
        }
      ]
    }
  ]
}